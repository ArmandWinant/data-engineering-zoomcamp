{
 "cells": [
  {
   "cell_type": "code",
   "execution_count": 10,
   "metadata": {},
   "outputs": [],
   "source": [
    "import pandas as pd\n",
    "from pyspark.sql import SparkSession\n",
    "from pyspark.sql import types, functions as F"
   ]
  },
  {
   "cell_type": "code",
   "execution_count": 3,
   "metadata": {},
   "outputs": [
    {
     "name": "stderr",
     "output_type": "stream",
     "text": [
      "Setting default log level to \"WARN\".\n",
      "To adjust logging level use sc.setLogLevel(newLevel). For SparkR, use setLogLevel(newLevel).\n",
      "25/02/27 21:51:29 WARN NativeCodeLoader: Unable to load native-hadoop library for your platform... using builtin-java classes where applicable\n"
     ]
    },
    {
     "name": "stderr",
     "output_type": "stream",
     "text": [
      "25/02/27 21:51:47 WARN GarbageCollectionMetrics: To enable non-built-in garbage collector(s) List(G1 Concurrent GC), users should configure it(them) to spark.eventLog.gcMetrics.youngGenerationGarbageCollectors or spark.eventLog.gcMetrics.oldGenerationGarbageCollectors\n"
     ]
    }
   ],
   "source": [
    "spark = SparkSession.builder\\\n",
    "          .master(\"local[*]\")\\\n",
    "          .appName(\"test\")\\\n",
    "          .getOrCreate()"
   ]
  },
  {
   "cell_type": "markdown",
   "metadata": {},
   "source": [
    "## Green Taxi"
   ]
  },
  {
   "cell_type": "code",
   "execution_count": 52,
   "metadata": {},
   "outputs": [],
   "source": [
    "green_taxi_schema = types.StructType([\n",
    "  types.StructField('VendorID', types.IntegerType(), True),\n",
    "  types.StructField('lpep_pickup_datetime', types.TimestampType(), True),\n",
    "  types.StructField('lpep_dropoff_datetime', types.TimestampType(), True),\n",
    "  types.StructField('store_and_fwd_flag', types.StringType(), True),\n",
    "  types.StructField('RatecodeID', types.IntegerType(), True),\n",
    "  types.StructField('PULocationID', types.IntegerType(), True),\n",
    "  types.StructField('DOLocationID', types.IntegerType(), True),\n",
    "  types.StructField('passenger_count', types.IntegerType(), True),\n",
    "  types.StructField('trip_distance', types.DoubleType(), True),\n",
    "  types.StructField('fare_amount', types.DoubleType(), True),\n",
    "  types.StructField('extra', types.DoubleType(), True),\n",
    "  types.StructField('mta_tax', types.DoubleType(), True),\n",
    "  types.StructField('tip_amount', types.DoubleType(), True),\n",
    "  types.StructField('tolls_amount', types.DoubleType(), True),\n",
    "  types.StructField('ehail_fee', types.DoubleType(), True),\n",
    "  types.StructField('improvement_surcharge', types.DoubleType(), True),\n",
    "  types.StructField('total_amount', types.DoubleType(), True),\n",
    "  types.StructField('payment_type', types.IntegerType(), True),\n",
    "  types.StructField('trip_type', types.IntegerType(), True),\n",
    "  types.StructField('congestion_surcharge', types.DoubleType(), True)\n",
    "])"
   ]
  },
  {
   "cell_type": "code",
   "execution_count": 53,
   "metadata": {},
   "outputs": [
    {
     "name": "stderr",
     "output_type": "stream",
     "text": [
      "                                                                                \r"
     ]
    }
   ],
   "source": [
    "year = 2021\n",
    "for year in range(2020, 2022):\n",
    "  for month in range(1, 13):\n",
    "    input_path = f'data/raw/green/{year}/{month:02d}/'\n",
    "    output_path = f'data/pq/green/{year}/{month:02d}/'\n",
    "\n",
    "    df_green = spark\\\n",
    "      .read\\\n",
    "      .option(\"header\", True)\\\n",
    "      .parquet(input_path)\n",
    "    \n",
    "    df_green\\\n",
    "    .repartition(4)\\\n",
    "    .write\\\n",
    "    .parquet(output_path)"
   ]
  },
  {
   "cell_type": "markdown",
   "metadata": {},
   "source": [
    "## Yellow taxi"
   ]
  },
  {
   "cell_type": "code",
   "execution_count": 30,
   "metadata": {},
   "outputs": [],
   "source": [
    "yellow_taxi_schema = types.StructType([\n",
    "  types.StructField('VendorID', types.IntegerType(), True),\n",
    "  types.StructField('tpep_pickup_datetime', types.TimestampType(), True),\n",
    "  types.StructField('tpep_dropoff_datetime', types.TimestampType(), True),\n",
    "  types.StructField('passenger_count', types.IntegerType(), True),\n",
    "  types.StructField('trip_distance', types.DoubleType(), True),\n",
    "  types.StructField('RatecodeID', types.IntegerType(), True),\n",
    "  types.StructField('store_and_fwd_flag', types.StringType(), True),\n",
    "  types.StructField('PULocationID', types.IntegerType(), True),\n",
    "  types.StructField('DOLocationID', types.IntegerType(), True),\n",
    "  types.StructField('payment_type', types.IntegerType(), True),\n",
    "  types.StructField('fare_amount', types.DoubleType(), True),\n",
    "  types.StructField('extra', types.DoubleType(), True),\n",
    "  types.StructField('mta_tax', types.DoubleType(), True),\n",
    "  types.StructField('tip_amount', types.DoubleType(), True),\n",
    "  types.StructField('tolls_amount', types.DoubleType(), True),\n",
    "  types.StructField('improvement_surcharge', types.DoubleType(), True),\n",
    "  types.StructField('total_amount', types.DoubleType(), True),\n",
    "  types.StructField('congestion_surcharge', types.DoubleType(), True),\n",
    "  types.StructField('airport_fee', types.DoubleType(), True)\n",
    "])"
   ]
  },
  {
   "cell_type": "code",
   "execution_count": null,
   "metadata": {},
   "outputs": [],
   "source": [
    "year = 2021\n",
    "for year in range(2020, 2022):\n",
    "  for month in range(1, 13):\n",
    "    input_path = f'data/raw/yellow/{year}/{month:02d}/'\n",
    "    output_path = f'data/pq/yellow/{year}/{month:02d}/'\n",
    "\n",
    "    df_yellow = spark\\\n",
    "      .read\\\n",
    "      .option(\"header\", True)\\\n",
    "      .parquet(input_path)\n",
    "    \n",
    "    df_yellow\\\n",
    "    .repartition(4)\\\n",
    "    .write.parquet(output_path)"
   ]
  }
 ],
 "metadata": {
  "kernelspec": {
   "display_name": ".env",
   "language": "python",
   "name": "python3"
  },
  "language_info": {
   "codemirror_mode": {
    "name": "ipython",
    "version": 3
   },
   "file_extension": ".py",
   "mimetype": "text/x-python",
   "name": "python",
   "nbconvert_exporter": "python",
   "pygments_lexer": "ipython3",
   "version": "3.9.6"
  }
 },
 "nbformat": 4,
 "nbformat_minor": 2
}
