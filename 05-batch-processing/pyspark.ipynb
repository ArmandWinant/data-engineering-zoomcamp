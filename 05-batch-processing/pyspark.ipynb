{
 "cells": [
  {
   "cell_type": "code",
   "execution_count": null,
   "id": "86c9daf6",
   "metadata": {},
   "outputs": [],
   "source": [
    "from pyspark.sql import SparkSession, types, functions as F"
   ]
  },
  {
   "cell_type": "code",
   "execution_count": 2,
   "id": "94a497a0",
   "metadata": {},
   "outputs": [
    {
     "name": "stderr",
     "output_type": "stream",
     "text": [
      "Setting default log level to \"WARN\".\n",
      "To adjust logging level use sc.setLogLevel(newLevel). For SparkR, use setLogLevel(newLevel).\n",
      "25/04/04 18:09:07 WARN NativeCodeLoader: Unable to load native-hadoop library for your platform... using builtin-java classes where applicable\n"
     ]
    }
   ],
   "source": [
    "spark = SparkSession.builder\\\n",
    "          .master(\"local[*]\")\\\n",
    "          .appName(\"test\")\\\n",
    "          .getOrCreate()"
   ]
  },
  {
   "cell_type": "code",
   "execution_count": null,
   "id": "c5d6579c",
   "metadata": {},
   "outputs": [],
   "source": [
    "def crazy_stuff(fieldName):\n",
    "  if fieldName % 7 == 0:\n",
    "    return 1\n",
    "  return 0\n",
    "\n",
    "crazy_stuff_udf = F.udf(crazy_stuff, returnType=types.StringType())"
   ]
  },
  {
   "cell_type": "code",
   "execution_count": null,
   "id": "60c7a73a",
   "metadata": {},
   "outputs": [],
   "source": [
    "df\\\n",
    "  .withColumn('pickup_date', F.to_date(df.pickup_datetime))\\\n",
    "  .withColumn('dropoff_date', F.to_date(df.pickup_datetime))\\\n",
    "  .withColumn('new_col', crazy_stuff_udf(df.columnName))"
   ]
  },
  {
   "cell_type": "code",
   "execution_count": 5,
   "id": "a44344dc",
   "metadata": {},
   "outputs": [],
   "source": [
    "spark.stop()"
   ]
  }
 ],
 "metadata": {
  "kernelspec": {
   "display_name": ".venv",
   "language": "python",
   "name": "python3"
  },
  "language_info": {
   "codemirror_mode": {
    "name": "ipython",
    "version": 3
   },
   "file_extension": ".py",
   "mimetype": "text/x-python",
   "name": "python",
   "nbconvert_exporter": "python",
   "pygments_lexer": "ipython3",
   "version": "3.9.6"
  }
 },
 "nbformat": 4,
 "nbformat_minor": 5
}
