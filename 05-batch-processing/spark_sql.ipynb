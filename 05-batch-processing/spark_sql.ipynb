{
 "cells": [
  {
   "cell_type": "code",
   "execution_count": 18,
   "metadata": {},
   "outputs": [],
   "source": [
    "import pandas as pd\n",
    "import pyspark\n",
    "from pyspark.sql import SparkSession, types, functions as F"
   ]
  },
  {
   "cell_type": "code",
   "execution_count": 2,
   "metadata": {},
   "outputs": [
    {
     "name": "stderr",
     "output_type": "stream",
     "text": [
      "Setting default log level to \"WARN\".\n",
      "To adjust logging level use sc.setLogLevel(newLevel). For SparkR, use setLogLevel(newLevel).\n",
      "25/03/06 23:09:24 WARN NativeCodeLoader: Unable to load native-hadoop library for your platform... using builtin-java classes where applicable\n"
     ]
    }
   ],
   "source": [
    "spark = SparkSession\\\n",
    "  .builder\\\n",
    "  .master(\"local[*]\")\\\n",
    "  .appName('test')\\\n",
    "  .getOrCreate()"
   ]
  },
  {
   "cell_type": "code",
   "execution_count": 3,
   "metadata": {},
   "outputs": [
    {
     "name": "stderr",
     "output_type": "stream",
     "text": [
      "                                                                                \r"
     ]
    }
   ],
   "source": [
    "df_green = spark.read.parquet('./data/pq/green/*/*')"
   ]
  },
  {
   "cell_type": "code",
   "execution_count": 13,
   "metadata": {},
   "outputs": [],
   "source": [
    "df_green = df_green\\\n",
    "  .withColumnRenamed('lpep_pickup_datetime', 'pickup_datetime')\\\n",
    "  .withColumnRenamed('lpep_dropoff_datetime', 'dropoff_datetime')"
   ]
  },
  {
   "cell_type": "code",
   "execution_count": 4,
   "metadata": {},
   "outputs": [],
   "source": [
    "df_yellow = spark.read.parquet('./data/pq/yellow/*/*')"
   ]
  },
  {
   "cell_type": "code",
   "execution_count": 14,
   "metadata": {},
   "outputs": [],
   "source": [
    "df_yellow = df_yellow\\\n",
    "  .withColumnRenamed('tpep_pickup_datetime', 'pickup_datetime')\\\n",
    "  .withColumnRenamed('tpep_dropoff_datetime', 'dropoff_datetime')"
   ]
  },
  {
   "cell_type": "code",
   "execution_count": 16,
   "metadata": {},
   "outputs": [],
   "source": [
    "common_columns = [col for col in df_green.columns if col in df_yellow.columns]"
   ]
  },
  {
   "cell_type": "code",
   "execution_count": 19,
   "metadata": {},
   "outputs": [],
   "source": [
    "df_green_sel = df_green.select(common_columns).withColumn('service_type', F.lit('green'))\n",
    "df_yellow_sel = df_yellow.select(common_columns).withColumn('service_type', F.lit('yellow'))"
   ]
  },
  {
   "cell_type": "code",
   "execution_count": 20,
   "metadata": {},
   "outputs": [],
   "source": [
    "df_trips_data = df_green_sel.unionAll(df_yellow_sel)"
   ]
  },
  {
   "cell_type": "code",
   "execution_count": 21,
   "metadata": {},
   "outputs": [
    {
     "name": "stderr",
     "output_type": "stream",
     "text": [
      "                                                                                \r"
     ]
    },
    {
     "name": "stdout",
     "output_type": "stream",
     "text": [
      "+------------+--------+\n",
      "|service_type|   count|\n",
      "+------------+--------+\n",
      "|       green| 2752287|\n",
      "|      yellow|39649199|\n",
      "+------------+--------+\n",
      "\n"
     ]
    }
   ],
   "source": [
    "df_trips_data.groupBy('service_type').count().show()"
   ]
  },
  {
   "cell_type": "code",
   "execution_count": 23,
   "metadata": {},
   "outputs": [],
   "source": [
    "df_trips_data.createOrReplaceTempView('trip_data')"
   ]
  },
  {
   "cell_type": "code",
   "execution_count": null,
   "metadata": {},
   "outputs": [
    {
     "ename": "AnalysisException",
     "evalue": "[UNRESOLVED_COLUMN.WITH_SUGGESTION] A column or function parameter with name `pickup_zone` cannot be resolved. Did you mean one of the following? [`pickup_datetime`, `mta_tax`, `tip_amount`, `VendorID`, `extra`].; line 3 pos 4;\n'Aggregate ['revenue_zone, 'revenue_month, service_type#279], ['pickup_zone AS revenue_zone#421, date_trunc(month, cast(pickup_datetime as timestamp), Some(Europe/Luxembourg)) AS revenue_month#422, service_type#279, sum(fare_amount#9) AS revenue_monthly_fare#423, sum(extra#10) AS revenue_monthly_extra#424, sum(mta_tax#11) AS revenue_monthly_mta_tax#425, sum(tip_amount#12) AS revenue_monthly_tip_amount#426, sum(tolls_amount#13) AS revenue_monthly_tolls_amount#427, sum(improvement_surcharge#15) AS revenue_monthly_improvement_surcharge#428, sum(total_amount#16) AS revenue_monthly_total_amount#429, avg(passenger_count#7) AS avg_monthly_passenger_count#430, avg(trip_distance#8) AS avg_monthly_trip_distance#431]\n+- SubqueryAlias trip_data\n   +- View (`trip_data`, [VendorID#0,pickup_datetime#140,dropoff_datetime#201,store_and_fwd_flag#3,RatecodeID#4,PULocationID#5,DOLocationID#6,passenger_count#7,trip_distance#8,fare_amount#9,extra#10,mta_tax#11,tip_amount#12,tolls_amount#13,improvement_surcharge#15,total_amount#16,payment_type#17,congestion_surcharge#19,service_type#279])\n      +- Union false, false\n         :- Project [VendorID#0, pickup_datetime#140, dropoff_datetime#201, store_and_fwd_flag#3, RatecodeID#4, PULocationID#5, DOLocationID#6, passenger_count#7, trip_distance#8, fare_amount#9, extra#10, mta_tax#11, tip_amount#12, tolls_amount#13, improvement_surcharge#15, total_amount#16, payment_type#17, congestion_surcharge#19, green AS service_type#279]\n         :  +- Project [VendorID#0, pickup_datetime#140, dropoff_datetime#201, store_and_fwd_flag#3, RatecodeID#4, PULocationID#5, DOLocationID#6, passenger_count#7, trip_distance#8, fare_amount#9, extra#10, mta_tax#11, tip_amount#12, tolls_amount#13, improvement_surcharge#15, total_amount#16, payment_type#17, congestion_surcharge#19]\n         :     +- Project [VendorID#0, pickup_datetime#140, lpep_dropoff_datetime#2 AS dropoff_datetime#201, store_and_fwd_flag#3, RatecodeID#4, PULocationID#5, DOLocationID#6, passenger_count#7, trip_distance#8, fare_amount#9, extra#10, mta_tax#11, tip_amount#12, tolls_amount#13, ehail_fee#14, improvement_surcharge#15, total_amount#16, payment_type#17, trip_type#18, congestion_surcharge#19]\n         :        +- Project [VendorID#0, lpep_pickup_datetime#1 AS pickup_datetime#140, lpep_dropoff_datetime#2, store_and_fwd_flag#3, RatecodeID#4, PULocationID#5, DOLocationID#6, passenger_count#7, trip_distance#8, fare_amount#9, extra#10, mta_tax#11, tip_amount#12, tolls_amount#13, ehail_fee#14, improvement_surcharge#15, total_amount#16, payment_type#17, trip_type#18, congestion_surcharge#19]\n         :           +- Relation [VendorID#0,lpep_pickup_datetime#1,lpep_dropoff_datetime#2,store_and_fwd_flag#3,RatecodeID#4,PULocationID#5,DOLocationID#6,passenger_count#7,trip_distance#8,fare_amount#9,extra#10,mta_tax#11,tip_amount#12,tolls_amount#13,ehail_fee#14,improvement_surcharge#15,total_amount#16,payment_type#17,trip_type#18,congestion_surcharge#19] parquet\n         +- Project [VendorID#40, pickup_datetime#222, dropoff_datetime#242, store_and_fwd_flag#46, RatecodeID#45, PULocationID#47, DOLocationID#48, passenger_count#43, trip_distance#44, fare_amount#50, extra#51, mta_tax#52, tip_amount#53, tolls_amount#54, improvement_surcharge#55, total_amount#56, payment_type#49, congestion_surcharge#57, yellow AS service_type#317]\n            +- Project [VendorID#40, pickup_datetime#222, dropoff_datetime#242, store_and_fwd_flag#46, RatecodeID#45, PULocationID#47, DOLocationID#48, passenger_count#43, trip_distance#44, fare_amount#50, extra#51, mta_tax#52, tip_amount#53, tolls_amount#54, improvement_surcharge#55, total_amount#56, payment_type#49, congestion_surcharge#57]\n               +- Project [VendorID#40, pickup_datetime#222, tpep_dropoff_datetime#42 AS dropoff_datetime#242, passenger_count#43, trip_distance#44, RatecodeID#45, store_and_fwd_flag#46, PULocationID#47, DOLocationID#48, payment_type#49, fare_amount#50, extra#51, mta_tax#52, tip_amount#53, tolls_amount#54, improvement_surcharge#55, total_amount#56, congestion_surcharge#57]\n                  +- Project [VendorID#40, tpep_pickup_datetime#41 AS pickup_datetime#222, tpep_dropoff_datetime#42, passenger_count#43, trip_distance#44, RatecodeID#45, store_and_fwd_flag#46, PULocationID#47, DOLocationID#48, payment_type#49, fare_amount#50, extra#51, mta_tax#52, tip_amount#53, tolls_amount#54, improvement_surcharge#55, total_amount#56, congestion_surcharge#57]\n                     +- Relation [VendorID#40,tpep_pickup_datetime#41,tpep_dropoff_datetime#42,passenger_count#43,trip_distance#44,RatecodeID#45,store_and_fwd_flag#46,PULocationID#47,DOLocationID#48,payment_type#49,fare_amount#50,extra#51,mta_tax#52,tip_amount#53,tolls_amount#54,improvement_surcharge#55,total_amount#56,congestion_surcharge#57] parquet\n",
     "output_type": "error",
     "traceback": [
      "\u001b[0;31m---------------------------------------------------------------------------\u001b[0m",
      "\u001b[0;31mAnalysisException\u001b[0m                         Traceback (most recent call last)",
      "Cell \u001b[0;32mIn[27], line 1\u001b[0m\n\u001b[0;32m----> 1\u001b[0m df_result \u001b[38;5;241m=\u001b[39m \u001b[43mspark\u001b[49m\u001b[38;5;241;43m.\u001b[39;49m\u001b[43msql\u001b[49m\u001b[43m(\u001b[49m\u001b[38;5;124;43m\"\"\"\u001b[39;49m\n\u001b[1;32m      2\u001b[0m \u001b[38;5;124;43m  SELECT \u001b[39;49m\n\u001b[1;32m      3\u001b[0m \u001b[38;5;124;43m    pickup_zone AS revenue_zone,\u001b[39;49m\n\u001b[1;32m      4\u001b[0m \u001b[38;5;124;43m    date_trunc(\u001b[39;49m\u001b[38;5;124;43m\"\u001b[39;49m\u001b[38;5;124;43mmonth\u001b[39;49m\u001b[38;5;124;43m\"\u001b[39;49m\u001b[38;5;124;43m, \u001b[39;49m\u001b[38;5;124;43m\"\u001b[39;49m\u001b[38;5;124;43mpickup_datetime\u001b[39;49m\u001b[38;5;124;43m\"\u001b[39;49m\u001b[38;5;124;43m) AS revenue_month,\u001b[39;49m\n\u001b[1;32m      5\u001b[0m \u001b[38;5;124;43m    service_type, \u001b[39;49m\n\u001b[1;32m      6\u001b[0m \u001b[38;5;124;43m    SUM(fare_amount) AS revenue_monthly_fare,\u001b[39;49m\n\u001b[1;32m      7\u001b[0m \u001b[38;5;124;43m    SUM(extra) AS revenue_monthly_extra,\u001b[39;49m\n\u001b[1;32m      8\u001b[0m \u001b[38;5;124;43m    SUM(mta_tax) AS revenue_monthly_mta_tax,\u001b[39;49m\n\u001b[1;32m      9\u001b[0m \u001b[38;5;124;43m    SUM(tip_amount) AS revenue_monthly_tip_amount,\u001b[39;49m\n\u001b[1;32m     10\u001b[0m \u001b[38;5;124;43m    SUM(tolls_amount) AS revenue_monthly_tolls_amount,\u001b[39;49m\n\u001b[1;32m     11\u001b[0m \u001b[38;5;124;43m    SUM(improvement_surcharge) AS revenue_monthly_improvement_surcharge,\u001b[39;49m\n\u001b[1;32m     12\u001b[0m \u001b[38;5;124;43m    SUM(total_amount) AS revenue_monthly_total_amount,\u001b[39;49m\n\u001b[1;32m     13\u001b[0m \u001b[38;5;124;43m    AVG(passenger_count) AS avg_monthly_passenger_count,\u001b[39;49m\n\u001b[1;32m     14\u001b[0m \u001b[38;5;124;43m    AVG(trip_distance) AS avg_monthly_trip_distance\u001b[39;49m\n\u001b[1;32m     15\u001b[0m \u001b[38;5;124;43m  FROM trip_data\u001b[39;49m\n\u001b[1;32m     16\u001b[0m \u001b[38;5;124;43m  GROUP BY revenue_zone, revenue_month, service_type\u001b[39;49m\n\u001b[1;32m     17\u001b[0m \u001b[38;5;124;43m\"\"\"\u001b[39;49m\u001b[43m)\u001b[49m\n",
      "File \u001b[0;32m~/Desktop/Projects/data-engineering-zoomcamp/.venv/lib/python3.9/site-packages/pyspark/sql/session.py:1631\u001b[0m, in \u001b[0;36mSparkSession.sql\u001b[0;34m(self, sqlQuery, args, **kwargs)\u001b[0m\n\u001b[1;32m   1627\u001b[0m         \u001b[38;5;28;01massert\u001b[39;00m \u001b[38;5;28mself\u001b[39m\u001b[38;5;241m.\u001b[39m_jvm \u001b[38;5;129;01mis\u001b[39;00m \u001b[38;5;129;01mnot\u001b[39;00m \u001b[38;5;28;01mNone\u001b[39;00m\n\u001b[1;32m   1628\u001b[0m         litArgs \u001b[38;5;241m=\u001b[39m \u001b[38;5;28mself\u001b[39m\u001b[38;5;241m.\u001b[39m_jvm\u001b[38;5;241m.\u001b[39mPythonUtils\u001b[38;5;241m.\u001b[39mtoArray(\n\u001b[1;32m   1629\u001b[0m             [_to_java_column(lit(v)) \u001b[38;5;28;01mfor\u001b[39;00m v \u001b[38;5;129;01min\u001b[39;00m (args \u001b[38;5;129;01mor\u001b[39;00m [])]\n\u001b[1;32m   1630\u001b[0m         )\n\u001b[0;32m-> 1631\u001b[0m     \u001b[38;5;28;01mreturn\u001b[39;00m DataFrame(\u001b[38;5;28;43mself\u001b[39;49m\u001b[38;5;241;43m.\u001b[39;49m\u001b[43m_jsparkSession\u001b[49m\u001b[38;5;241;43m.\u001b[39;49m\u001b[43msql\u001b[49m\u001b[43m(\u001b[49m\u001b[43msqlQuery\u001b[49m\u001b[43m,\u001b[49m\u001b[43m \u001b[49m\u001b[43mlitArgs\u001b[49m\u001b[43m)\u001b[49m, \u001b[38;5;28mself\u001b[39m)\n\u001b[1;32m   1632\u001b[0m \u001b[38;5;28;01mfinally\u001b[39;00m:\n\u001b[1;32m   1633\u001b[0m     \u001b[38;5;28;01mif\u001b[39;00m \u001b[38;5;28mlen\u001b[39m(kwargs) \u001b[38;5;241m>\u001b[39m \u001b[38;5;241m0\u001b[39m:\n",
      "File \u001b[0;32m~/Desktop/Projects/data-engineering-zoomcamp/.venv/lib/python3.9/site-packages/py4j/java_gateway.py:1322\u001b[0m, in \u001b[0;36mJavaMember.__call__\u001b[0;34m(self, *args)\u001b[0m\n\u001b[1;32m   1316\u001b[0m command \u001b[38;5;241m=\u001b[39m proto\u001b[38;5;241m.\u001b[39mCALL_COMMAND_NAME \u001b[38;5;241m+\u001b[39m\\\n\u001b[1;32m   1317\u001b[0m     \u001b[38;5;28mself\u001b[39m\u001b[38;5;241m.\u001b[39mcommand_header \u001b[38;5;241m+\u001b[39m\\\n\u001b[1;32m   1318\u001b[0m     args_command \u001b[38;5;241m+\u001b[39m\\\n\u001b[1;32m   1319\u001b[0m     proto\u001b[38;5;241m.\u001b[39mEND_COMMAND_PART\n\u001b[1;32m   1321\u001b[0m answer \u001b[38;5;241m=\u001b[39m \u001b[38;5;28mself\u001b[39m\u001b[38;5;241m.\u001b[39mgateway_client\u001b[38;5;241m.\u001b[39msend_command(command)\n\u001b[0;32m-> 1322\u001b[0m return_value \u001b[38;5;241m=\u001b[39m \u001b[43mget_return_value\u001b[49m\u001b[43m(\u001b[49m\n\u001b[1;32m   1323\u001b[0m \u001b[43m    \u001b[49m\u001b[43manswer\u001b[49m\u001b[43m,\u001b[49m\u001b[43m \u001b[49m\u001b[38;5;28;43mself\u001b[39;49m\u001b[38;5;241;43m.\u001b[39;49m\u001b[43mgateway_client\u001b[49m\u001b[43m,\u001b[49m\u001b[43m \u001b[49m\u001b[38;5;28;43mself\u001b[39;49m\u001b[38;5;241;43m.\u001b[39;49m\u001b[43mtarget_id\u001b[49m\u001b[43m,\u001b[49m\u001b[43m \u001b[49m\u001b[38;5;28;43mself\u001b[39;49m\u001b[38;5;241;43m.\u001b[39;49m\u001b[43mname\u001b[49m\u001b[43m)\u001b[49m\n\u001b[1;32m   1325\u001b[0m \u001b[38;5;28;01mfor\u001b[39;00m temp_arg \u001b[38;5;129;01min\u001b[39;00m temp_args:\n\u001b[1;32m   1326\u001b[0m     \u001b[38;5;28;01mif\u001b[39;00m \u001b[38;5;28mhasattr\u001b[39m(temp_arg, \u001b[38;5;124m\"\u001b[39m\u001b[38;5;124m_detach\u001b[39m\u001b[38;5;124m\"\u001b[39m):\n",
      "File \u001b[0;32m~/Desktop/Projects/data-engineering-zoomcamp/.venv/lib/python3.9/site-packages/pyspark/errors/exceptions/captured.py:185\u001b[0m, in \u001b[0;36mcapture_sql_exception.<locals>.deco\u001b[0;34m(*a, **kw)\u001b[0m\n\u001b[1;32m    181\u001b[0m converted \u001b[38;5;241m=\u001b[39m convert_exception(e\u001b[38;5;241m.\u001b[39mjava_exception)\n\u001b[1;32m    182\u001b[0m \u001b[38;5;28;01mif\u001b[39;00m \u001b[38;5;129;01mnot\u001b[39;00m \u001b[38;5;28misinstance\u001b[39m(converted, UnknownException):\n\u001b[1;32m    183\u001b[0m     \u001b[38;5;66;03m# Hide where the exception came from that shows a non-Pythonic\u001b[39;00m\n\u001b[1;32m    184\u001b[0m     \u001b[38;5;66;03m# JVM exception message.\u001b[39;00m\n\u001b[0;32m--> 185\u001b[0m     \u001b[38;5;28;01mraise\u001b[39;00m converted \u001b[38;5;28;01mfrom\u001b[39;00m\u001b[38;5;250m \u001b[39m\u001b[38;5;28;01mNone\u001b[39;00m\n\u001b[1;32m    186\u001b[0m \u001b[38;5;28;01melse\u001b[39;00m:\n\u001b[1;32m    187\u001b[0m     \u001b[38;5;28;01mraise\u001b[39;00m\n",
      "\u001b[0;31mAnalysisException\u001b[0m: [UNRESOLVED_COLUMN.WITH_SUGGESTION] A column or function parameter with name `pickup_zone` cannot be resolved. Did you mean one of the following? [`pickup_datetime`, `mta_tax`, `tip_amount`, `VendorID`, `extra`].; line 3 pos 4;\n'Aggregate ['revenue_zone, 'revenue_month, service_type#279], ['pickup_zone AS revenue_zone#421, date_trunc(month, cast(pickup_datetime as timestamp), Some(Europe/Luxembourg)) AS revenue_month#422, service_type#279, sum(fare_amount#9) AS revenue_monthly_fare#423, sum(extra#10) AS revenue_monthly_extra#424, sum(mta_tax#11) AS revenue_monthly_mta_tax#425, sum(tip_amount#12) AS revenue_monthly_tip_amount#426, sum(tolls_amount#13) AS revenue_monthly_tolls_amount#427, sum(improvement_surcharge#15) AS revenue_monthly_improvement_surcharge#428, sum(total_amount#16) AS revenue_monthly_total_amount#429, avg(passenger_count#7) AS avg_monthly_passenger_count#430, avg(trip_distance#8) AS avg_monthly_trip_distance#431]\n+- SubqueryAlias trip_data\n   +- View (`trip_data`, [VendorID#0,pickup_datetime#140,dropoff_datetime#201,store_and_fwd_flag#3,RatecodeID#4,PULocationID#5,DOLocationID#6,passenger_count#7,trip_distance#8,fare_amount#9,extra#10,mta_tax#11,tip_amount#12,tolls_amount#13,improvement_surcharge#15,total_amount#16,payment_type#17,congestion_surcharge#19,service_type#279])\n      +- Union false, false\n         :- Project [VendorID#0, pickup_datetime#140, dropoff_datetime#201, store_and_fwd_flag#3, RatecodeID#4, PULocationID#5, DOLocationID#6, passenger_count#7, trip_distance#8, fare_amount#9, extra#10, mta_tax#11, tip_amount#12, tolls_amount#13, improvement_surcharge#15, total_amount#16, payment_type#17, congestion_surcharge#19, green AS service_type#279]\n         :  +- Project [VendorID#0, pickup_datetime#140, dropoff_datetime#201, store_and_fwd_flag#3, RatecodeID#4, PULocationID#5, DOLocationID#6, passenger_count#7, trip_distance#8, fare_amount#9, extra#10, mta_tax#11, tip_amount#12, tolls_amount#13, improvement_surcharge#15, total_amount#16, payment_type#17, congestion_surcharge#19]\n         :     +- Project [VendorID#0, pickup_datetime#140, lpep_dropoff_datetime#2 AS dropoff_datetime#201, store_and_fwd_flag#3, RatecodeID#4, PULocationID#5, DOLocationID#6, passenger_count#7, trip_distance#8, fare_amount#9, extra#10, mta_tax#11, tip_amount#12, tolls_amount#13, ehail_fee#14, improvement_surcharge#15, total_amount#16, payment_type#17, trip_type#18, congestion_surcharge#19]\n         :        +- Project [VendorID#0, lpep_pickup_datetime#1 AS pickup_datetime#140, lpep_dropoff_datetime#2, store_and_fwd_flag#3, RatecodeID#4, PULocationID#5, DOLocationID#6, passenger_count#7, trip_distance#8, fare_amount#9, extra#10, mta_tax#11, tip_amount#12, tolls_amount#13, ehail_fee#14, improvement_surcharge#15, total_amount#16, payment_type#17, trip_type#18, congestion_surcharge#19]\n         :           +- Relation [VendorID#0,lpep_pickup_datetime#1,lpep_dropoff_datetime#2,store_and_fwd_flag#3,RatecodeID#4,PULocationID#5,DOLocationID#6,passenger_count#7,trip_distance#8,fare_amount#9,extra#10,mta_tax#11,tip_amount#12,tolls_amount#13,ehail_fee#14,improvement_surcharge#15,total_amount#16,payment_type#17,trip_type#18,congestion_surcharge#19] parquet\n         +- Project [VendorID#40, pickup_datetime#222, dropoff_datetime#242, store_and_fwd_flag#46, RatecodeID#45, PULocationID#47, DOLocationID#48, passenger_count#43, trip_distance#44, fare_amount#50, extra#51, mta_tax#52, tip_amount#53, tolls_amount#54, improvement_surcharge#55, total_amount#56, payment_type#49, congestion_surcharge#57, yellow AS service_type#317]\n            +- Project [VendorID#40, pickup_datetime#222, dropoff_datetime#242, store_and_fwd_flag#46, RatecodeID#45, PULocationID#47, DOLocationID#48, passenger_count#43, trip_distance#44, fare_amount#50, extra#51, mta_tax#52, tip_amount#53, tolls_amount#54, improvement_surcharge#55, total_amount#56, payment_type#49, congestion_surcharge#57]\n               +- Project [VendorID#40, pickup_datetime#222, tpep_dropoff_datetime#42 AS dropoff_datetime#242, passenger_count#43, trip_distance#44, RatecodeID#45, store_and_fwd_flag#46, PULocationID#47, DOLocationID#48, payment_type#49, fare_amount#50, extra#51, mta_tax#52, tip_amount#53, tolls_amount#54, improvement_surcharge#55, total_amount#56, congestion_surcharge#57]\n                  +- Project [VendorID#40, tpep_pickup_datetime#41 AS pickup_datetime#222, tpep_dropoff_datetime#42, passenger_count#43, trip_distance#44, RatecodeID#45, store_and_fwd_flag#46, PULocationID#47, DOLocationID#48, payment_type#49, fare_amount#50, extra#51, mta_tax#52, tip_amount#53, tolls_amount#54, improvement_surcharge#55, total_amount#56, congestion_surcharge#57]\n                     +- Relation [VendorID#40,tpep_pickup_datetime#41,tpep_dropoff_datetime#42,passenger_count#43,trip_distance#44,RatecodeID#45,store_and_fwd_flag#46,PULocationID#47,DOLocationID#48,payment_type#49,fare_amount#50,extra#51,mta_tax#52,tip_amount#53,tolls_amount#54,improvement_surcharge#55,total_amount#56,congestion_surcharge#57] parquet\n"
     ]
    }
   ],
   "source": [
    "df_result = spark.sql(\"\"\"\n",
    "  SELECT \n",
    "    PULocationID AS revenue_zone,\n",
    "    date_trunc(\"month\", \"pickup_datetime\") AS revenue_month,\n",
    "    service_type, \n",
    "    SUM(fare_amount) AS revenue_monthly_fare,\n",
    "    SUM(extra) AS revenue_monthly_extra,\n",
    "    SUM(mta_tax) AS revenue_monthly_mta_tax,\n",
    "    SUM(tip_amount) AS revenue_monthly_tip_amount,\n",
    "    SUM(tolls_amount) AS revenue_monthly_tolls_amount,\n",
    "    SUM(improvement_surcharge) AS revenue_monthly_improvement_surcharge,\n",
    "    SUM(total_amount) AS revenue_monthly_total_amount,\n",
    "    AVG(passenger_count) AS avg_monthly_passenger_count,\n",
    "    AVG(trip_distance) AS avg_monthly_trip_distance\n",
    "  FROM trip_data\n",
    "  GROUP BY revenue_zone, revenue_month, service_type\n",
    "\"\"\")"
   ]
  },
  {
   "cell_type": "code",
   "execution_count": null,
   "metadata": {},
   "outputs": [],
   "source": [
    "spark.stop()"
   ]
  }
 ],
 "metadata": {
  "kernelspec": {
   "display_name": ".venv",
   "language": "python",
   "name": "python3"
  },
  "language_info": {
   "codemirror_mode": {
    "name": "ipython",
    "version": 3
   },
   "file_extension": ".py",
   "mimetype": "text/x-python",
   "name": "python",
   "nbconvert_exporter": "python",
   "pygments_lexer": "ipython3",
   "version": "3.9.6"
  }
 },
 "nbformat": 4,
 "nbformat_minor": 2
}
