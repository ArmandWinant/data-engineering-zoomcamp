{
 "cells": [
  {
   "cell_type": "code",
   "execution_count": 1,
   "metadata": {},
   "outputs": [],
   "source": [
    "import pandas as pd\n",
    "import pyspark\n",
    "from pyspark.sql import SparkSession, types, functions as F"
   ]
  },
  {
   "cell_type": "code",
   "execution_count": 2,
   "metadata": {},
   "outputs": [
    {
     "name": "stderr",
     "output_type": "stream",
     "text": [
      "Setting default log level to \"WARN\".\n",
      "To adjust logging level use sc.setLogLevel(newLevel). For SparkR, use setLogLevel(newLevel).\n",
      "25/03/11 22:17:36 WARN NativeCodeLoader: Unable to load native-hadoop library for your platform... using builtin-java classes where applicable\n"
     ]
    }
   ],
   "source": [
    "spark = SparkSession\\\n",
    "  .builder\\\n",
    "  .master(\"local[*]\")\\\n",
    "  .appName('test')\\\n",
    "  .getOrCreate()"
   ]
  },
  {
   "cell_type": "code",
   "execution_count": 3,
   "metadata": {},
   "outputs": [
    {
     "name": "stderr",
     "output_type": "stream",
     "text": [
      "                                                                                \r"
     ]
    }
   ],
   "source": [
    "df_green = spark.read.parquet('./data/pq/green/*/*')"
   ]
  },
  {
   "cell_type": "code",
   "execution_count": 4,
   "metadata": {},
   "outputs": [],
   "source": [
    "df_green.createOrReplaceTempView('trip_data')"
   ]
  },
  {
   "cell_type": "code",
   "execution_count": 9,
   "metadata": {},
   "outputs": [],
   "source": [
    "df_green_revenue = spark.sql(\"\"\"\n",
    "  SELECT \n",
    "    date_trunc(\"hour\", lpep_pickup_datetime) AS hour,\n",
    "    PULocationID AS zone,\n",
    "    SUM(total_amount) AS amount,\n",
    "    COUNT(*) AS row_count\n",
    "  FROM trip_data\n",
    "  WHERE lpep_pickup_datetime >= '2020-01-01 00:00:00'\n",
    "  GROUP BY 1, 2\n",
    "  ORDER BY 1, 2\n",
    "\"\"\")"
   ]
  },
  {
   "cell_type": "code",
   "execution_count": 10,
   "metadata": {},
   "outputs": [
    {
     "name": "stderr",
     "output_type": "stream",
     "text": [
      "[Stage 7:===================================================>       (7 + 1) / 8]\r"
     ]
    },
    {
     "name": "stdout",
     "output_type": "stream",
     "text": [
      "+-------------------+----+------------------+---------+\n",
      "|               hour|zone|            amount|row_count|\n",
      "+-------------------+----+------------------+---------+\n",
      "|2020-01-01 00:00:00|   7|1539.4599999999984|       90|\n",
      "|2020-01-01 00:00:00|  17|390.06000000000006|       18|\n",
      "|2020-01-01 00:00:00|  18|              15.6|        2|\n",
      "|2020-01-01 00:00:00|  22|              31.6|        2|\n",
      "|2020-01-01 00:00:00|  24|             175.2|        6|\n",
      "|2020-01-01 00:00:00|  25|1061.9999999999995|       52|\n",
      "|2020-01-01 00:00:00|  29|             122.6|        2|\n",
      "|2020-01-01 00:00:00|  32|             137.9|        4|\n",
      "|2020-01-01 00:00:00|  33|            634.54|       22|\n",
      "|2020-01-01 00:00:00|  35|            259.92|       10|\n",
      "|2020-01-01 00:00:00|  36|            590.68|       22|\n",
      "|2020-01-01 00:00:00|  37|            351.34|       12|\n",
      "|2020-01-01 00:00:00|  38|            197.58|        4|\n",
      "|2020-01-01 00:00:00|  40|337.96000000000004|       16|\n",
      "|2020-01-01 00:00:00|  41|2727.9200000000005|      168|\n",
      "|2020-01-01 00:00:00|  42|1599.5199999999984|      104|\n",
      "|2020-01-01 00:00:00|  43|215.04000000000002|       12|\n",
      "|2020-01-01 00:00:00|  47|              26.6|        2|\n",
      "|2020-01-01 00:00:00|  49| 533.5200000000001|       28|\n",
      "|2020-01-01 00:00:00|  51|              35.6|        4|\n",
      "+-------------------+----+------------------+---------+\n",
      "only showing top 20 rows\n",
      "\n"
     ]
    },
    {
     "name": "stderr",
     "output_type": "stream",
     "text": [
      "                                                                                \r"
     ]
    }
   ],
   "source": [
    "df_green_revenue.show()"
   ]
  },
  {
   "cell_type": "code",
   "execution_count": null,
   "metadata": {},
   "outputs": [],
   "source": [
    "df_green_revenue.write.parquet('data/report/revenue/green')"
   ]
  },
  {
   "cell_type": "code",
   "execution_count": null,
   "metadata": {},
   "outputs": [],
   "source": [
    "spark.stop()"
   ]
  }
 ],
 "metadata": {
  "kernelspec": {
   "display_name": ".venv",
   "language": "python",
   "name": "python3"
  },
  "language_info": {
   "codemirror_mode": {
    "name": "ipython",
    "version": 3
   },
   "file_extension": ".py",
   "mimetype": "text/x-python",
   "name": "python",
   "nbconvert_exporter": "python",
   "pygments_lexer": "ipython3",
   "version": "3.9.6"
  }
 },
 "nbformat": 4,
 "nbformat_minor": 2
}
