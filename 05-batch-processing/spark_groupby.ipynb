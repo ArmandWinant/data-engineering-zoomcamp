{
 "cells": [
  {
   "cell_type": "code",
   "execution_count": 27,
   "metadata": {},
   "outputs": [],
   "source": [
    "from pyspark.sql import SparkSession"
   ]
  },
  {
   "cell_type": "code",
   "execution_count": 28,
   "metadata": {},
   "outputs": [],
   "source": [
    "spark = SparkSession\\\n",
    "  .builder\\\n",
    "  .master(\"local[*]\")\\\n",
    "  .appName('test')\\\n",
    "  .getOrCreate()"
   ]
  },
  {
   "cell_type": "markdown",
   "metadata": {},
   "source": [
    "### Green Taxi"
   ]
  },
  {
   "cell_type": "code",
   "execution_count": 29,
   "metadata": {},
   "outputs": [],
   "source": [
    "df_green = spark.read.parquet('./data/pq/green/*/*')"
   ]
  },
  {
   "cell_type": "code",
   "execution_count": 30,
   "metadata": {},
   "outputs": [],
   "source": [
    "df_green.createOrReplaceTempView('green_trip_data')"
   ]
  },
  {
   "cell_type": "code",
   "execution_count": 31,
   "metadata": {},
   "outputs": [],
   "source": [
    "df_green_revenue = spark.sql(\"\"\"\n",
    "  SELECT \n",
    "    date_trunc(\"hour\", lpep_pickup_datetime) AS hour,\n",
    "    PULocationID AS zone,\n",
    "    SUM(total_amount) AS amount,\n",
    "    COUNT(*) AS row_count\n",
    "  FROM green_trip_data\n",
    "  WHERE lpep_pickup_datetime >= '2020-01-01 00:00:00'\n",
    "  GROUP BY 1, 2\n",
    "  ORDER BY 1, 2\n",
    "\"\"\")"
   ]
  },
  {
   "cell_type": "code",
   "execution_count": 32,
   "metadata": {},
   "outputs": [
    {
     "name": "stderr",
     "output_type": "stream",
     "text": [
      "[Stage 1:===================================================>       (7 + 1) / 8]\r"
     ]
    },
    {
     "name": "stdout",
     "output_type": "stream",
     "text": [
      "+-------------------+----+------------------+---------+\n",
      "|               hour|zone|            amount|row_count|\n",
      "+-------------------+----+------------------+---------+\n",
      "|2020-01-01 00:00:00|   7| 769.7299999999997|       45|\n",
      "|2020-01-01 00:00:00|  17|            195.03|        9|\n",
      "|2020-01-01 00:00:00|  18|               7.8|        1|\n",
      "|2020-01-01 00:00:00|  22|              15.8|        1|\n",
      "|2020-01-01 00:00:00|  24|              87.6|        3|\n",
      "|2020-01-01 00:00:00|  25|             531.0|       26|\n",
      "|2020-01-01 00:00:00|  29|              61.3|        1|\n",
      "|2020-01-01 00:00:00|  32| 68.94999999999999|        2|\n",
      "|2020-01-01 00:00:00|  33|317.27000000000004|       11|\n",
      "|2020-01-01 00:00:00|  35|129.95999999999998|        5|\n",
      "|2020-01-01 00:00:00|  36|295.34000000000003|       11|\n",
      "|2020-01-01 00:00:00|  37|175.67000000000002|        6|\n",
      "|2020-01-01 00:00:00|  38| 98.78999999999999|        2|\n",
      "|2020-01-01 00:00:00|  40|168.98000000000002|        8|\n",
      "|2020-01-01 00:00:00|  41|1363.9599999999987|       84|\n",
      "|2020-01-01 00:00:00|  42| 799.7599999999994|       52|\n",
      "|2020-01-01 00:00:00|  43|            107.52|        6|\n",
      "|2020-01-01 00:00:00|  47|              13.3|        1|\n",
      "|2020-01-01 00:00:00|  49|266.76000000000005|       14|\n",
      "|2020-01-01 00:00:00|  51|              17.8|        2|\n",
      "+-------------------+----+------------------+---------+\n",
      "only showing top 20 rows\n",
      "\n"
     ]
    },
    {
     "name": "stderr",
     "output_type": "stream",
     "text": [
      "                                                                                \r"
     ]
    }
   ],
   "source": [
    "df_green_revenue.show()"
   ]
  },
  {
   "cell_type": "code",
   "execution_count": 33,
   "metadata": {},
   "outputs": [
    {
     "name": "stderr",
     "output_type": "stream",
     "text": [
      "25/03/14 11:19:03 WARN MemoryManager: Total allocation exceeds 95.00% (1,020,054,720 bytes) of heap memory\n",
      "Scaling row group sizes to 95.00% for 8 writers\n",
      "25/03/14 11:19:03 WARN MemoryManager: Total allocation exceeds 95.00% (1,020,054,720 bytes) of heap memory\n",
      "Scaling row group sizes to 95.00% for 8 writers\n",
      "                                                                                \r"
     ]
    }
   ],
   "source": [
    "df_green_revenue\\\n",
    "  .repartition(20)\\\n",
    "  .write.parquet('data/report/revenue/green', mode='overwrite')"
   ]
  },
  {
   "cell_type": "markdown",
   "metadata": {},
   "source": [
    "### Yellow Taxi"
   ]
  },
  {
   "cell_type": "code",
   "execution_count": 34,
   "metadata": {},
   "outputs": [],
   "source": [
    "df_yellow = spark.read.parquet('./data/pq/yellow/*/*')\n",
    "df_yellow.createOrReplaceTempView('yellow_trip_data')"
   ]
  },
  {
   "cell_type": "code",
   "execution_count": 35,
   "metadata": {},
   "outputs": [],
   "source": [
    "df_yellow_revenue = spark.sql(\"\"\"\n",
    "  SELECT \n",
    "    date_trunc(\"hour\", tpep_pickup_datetime) AS hour,\n",
    "    PULocationID AS zone,\n",
    "    SUM(total_amount) AS amount,\n",
    "    COUNT(*) AS row_count\n",
    "  FROM yellow_trip_data\n",
    "  WHERE tpep_pickup_datetime >= '2020-01-01 00:00:00'\n",
    "  GROUP BY 1, 2\n",
    "  ORDER BY 1, 2\n",
    "\"\"\")"
   ]
  },
  {
   "cell_type": "code",
   "execution_count": 36,
   "metadata": {},
   "outputs": [
    {
     "name": "stderr",
     "output_type": "stream",
     "text": [
      "25/03/14 11:19:17 WARN MemoryManager: Total allocation exceeds 95.00% (1,020,054,720 bytes) of heap memory\n",
      "Scaling row group sizes to 95.00% for 8 writers\n",
      "25/03/14 11:19:18 WARN MemoryManager: Total allocation exceeds 95.00% (1,020,054,720 bytes) of heap memory\n",
      "Scaling row group sizes to 95.00% for 8 writers\n",
      "                                                                                \r"
     ]
    }
   ],
   "source": [
    "df_yellow_revenue\\\n",
    "  .repartition(20)\\\n",
    "  .write.parquet('data/report/revenue/yellow', mode='overwrite')"
   ]
  },
  {
   "cell_type": "markdown",
   "metadata": {},
   "source": [
    "## JOINS\n",
    "### External Merge Sort (Sort Merge Join)"
   ]
  },
  {
   "cell_type": "code",
   "execution_count": 37,
   "metadata": {},
   "outputs": [],
   "source": [
    "df_green_revenue = spark.read.parquet('data/report/revenue/green')\n",
    "df_yellow_revenue = spark.read.parquet('data/report/revenue/yellow')"
   ]
  },
  {
   "cell_type": "code",
   "execution_count": 38,
   "metadata": {},
   "outputs": [],
   "source": [
    "df_green_revenue_tmp = df_green_revenue\\\n",
    "  .withColumnRenamed('amount', 'green_amount')\\\n",
    "  .withColumnRenamed('row_count', 'green_row_count')"
   ]
  },
  {
   "cell_type": "code",
   "execution_count": 39,
   "metadata": {},
   "outputs": [],
   "source": [
    "df_yellow_revenue_tmp = df_yellow_revenue\\\n",
    "  .withColumnRenamed('amount', 'yellow_amount')\\\n",
    "  .withColumnRenamed('row_count', 'yellow_row_count')"
   ]
  },
  {
   "cell_type": "code",
   "execution_count": 40,
   "metadata": {},
   "outputs": [],
   "source": [
    "df_join = df_green_revenue_tmp.join(df_yellow_revenue_tmp, on=['hour', 'zone'], how='outer')"
   ]
  },
  {
   "cell_type": "code",
   "execution_count": 41,
   "metadata": {},
   "outputs": [
    {
     "name": "stderr",
     "output_type": "stream",
     "text": [
      "25/03/14 11:19:24 WARN MemoryManager: Total allocation exceeds 95.00% (1,020,054,720 bytes) of heap memory\n",
      "Scaling row group sizes to 95.00% for 8 writers\n",
      "                                                                                \r"
     ]
    }
   ],
   "source": [
    "df_join.write.parquet('data/report/revenue/total', mode='overwrite')"
   ]
  },
  {
   "cell_type": "markdown",
   "metadata": {},
   "source": [
    "### Broadcast Join"
   ]
  },
  {
   "cell_type": "code",
   "execution_count": 42,
   "metadata": {},
   "outputs": [],
   "source": [
    "df_zones = spark.read\\\n",
    "  .option(\"header\", True)\\\n",
    "  .csv('data/raw/zones/')"
   ]
  },
  {
   "cell_type": "code",
   "execution_count": 43,
   "metadata": {},
   "outputs": [
    {
     "name": "stdout",
     "output_type": "stream",
     "text": [
      "+----------+-------------+--------------------+------------+\n",
      "|LocationID|      Borough|                Zone|service_zone|\n",
      "+----------+-------------+--------------------+------------+\n",
      "|         1|          EWR|      Newark Airport|         EWR|\n",
      "|         2|       Queens|         Jamaica Bay|   Boro Zone|\n",
      "|         3|        Bronx|Allerton/Pelham G...|   Boro Zone|\n",
      "|         4|    Manhattan|       Alphabet City| Yellow Zone|\n",
      "|         5|Staten Island|       Arden Heights|   Boro Zone|\n",
      "|         6|Staten Island|Arrochar/Fort Wad...|   Boro Zone|\n",
      "|         7|       Queens|             Astoria|   Boro Zone|\n",
      "|         8|       Queens|        Astoria Park|   Boro Zone|\n",
      "|         9|       Queens|          Auburndale|   Boro Zone|\n",
      "|        10|       Queens|        Baisley Park|   Boro Zone|\n",
      "|        11|     Brooklyn|          Bath Beach|   Boro Zone|\n",
      "|        12|    Manhattan|        Battery Park| Yellow Zone|\n",
      "|        13|    Manhattan|   Battery Park City| Yellow Zone|\n",
      "|        14|     Brooklyn|           Bay Ridge|   Boro Zone|\n",
      "|        15|       Queens|Bay Terrace/Fort ...|   Boro Zone|\n",
      "|        16|       Queens|             Bayside|   Boro Zone|\n",
      "|        17|     Brooklyn|             Bedford|   Boro Zone|\n",
      "|        18|        Bronx|        Bedford Park|   Boro Zone|\n",
      "|        19|       Queens|           Bellerose|   Boro Zone|\n",
      "|        20|        Bronx|             Belmont|   Boro Zone|\n",
      "+----------+-------------+--------------------+------------+\n",
      "only showing top 20 rows\n",
      "\n"
     ]
    }
   ],
   "source": [
    "df_zones.show()"
   ]
  },
  {
   "cell_type": "code",
   "execution_count": null,
   "metadata": {},
   "outputs": [],
   "source": [
    "df_result = df_join.join(df_zones, df_join.zone == df_zones.LocationID).drop('LocationID', 'zone')"
   ]
  },
  {
   "cell_type": "code",
   "execution_count": 45,
   "metadata": {},
   "outputs": [
    {
     "name": "stderr",
     "output_type": "stream",
     "text": [
      "[Stage 40:=========================================>                (5 + 2) / 7]\r"
     ]
    },
    {
     "name": "stdout",
     "output_type": "stream",
     "text": [
      "+-------------------+----+------------------+---------------+------------------+----------------+---------+--------------------+------------+\n",
      "|               hour|zone|      green_amount|green_row_count|     yellow_amount|yellow_row_count|  Borough|                Zone|service_zone|\n",
      "+-------------------+----+------------------+---------------+------------------+----------------+---------+--------------------+------------+\n",
      "|2020-01-01 00:00:00|  22|              15.8|              1|              NULL|            NULL| Brooklyn|    Bensonhurst West|   Boro Zone|\n",
      "|2020-01-01 00:00:00|  25|             531.0|             26|            324.35|              16| Brooklyn|         Boerum Hill|   Boro Zone|\n",
      "|2020-01-01 00:00:00|  55|129.29000000000002|              4|              NULL|            NULL| Brooklyn|        Coney Island|   Boro Zone|\n",
      "|2020-01-01 00:00:00|  56|             99.69|              3|              18.1|               2|   Queens|              Corona|   Boro Zone|\n",
      "|2020-01-01 00:00:00|  60|            160.04|              6|57.620000000000005|               2|    Bronx|   Crotona Park East|   Boro Zone|\n",
      "|2020-01-01 00:00:00|  61|            526.71|             17|            146.64|               3| Brooklyn| Crown Heights North|   Boro Zone|\n",
      "|2020-01-01 00:00:00|  65|            199.49|             10|            409.35|              19| Brooklyn|Downtown Brooklyn...|   Boro Zone|\n",
      "|2020-01-01 00:00:00|  71|              23.8|              1|              NULL|            NULL| Brooklyn|East Flatbush/Far...|   Boro Zone|\n",
      "|2020-01-01 00:00:00|  78|             34.46|              2|              NULL|            NULL|    Bronx|        East Tremont|   Boro Zone|\n",
      "|2020-01-01 00:00:00|  85|             64.76|              4|            102.56|               3| Brooklyn|             Erasmus|   Boro Zone|\n",
      "|2020-01-01 00:00:00|  88|              NULL|           NULL| 823.8000000000002|              36|Manhattan|Financial Distric...| Yellow Zone|\n",
      "|2020-01-01 00:00:00| 106|             10.56|              1|              NULL|            NULL| Brooklyn|             Gowanus|   Boro Zone|\n",
      "|2020-01-01 00:00:00| 112|312.26000000000005|             18|119.47999999999999|               8| Brooklyn|          Greenpoint|   Boro Zone|\n",
      "|2020-01-01 00:00:00| 113|              NULL|           NULL| 3984.319999999997|             220|Manhattan|Greenwich Village...| Yellow Zone|\n",
      "|2020-01-01 00:00:00| 148|              NULL|           NULL| 6790.150000000008|             371|Manhattan|     Lower East Side| Yellow Zone|\n",
      "|2020-01-01 00:00:00| 161|              NULL|           NULL| 9410.210000000021|             488|Manhattan|      Midtown Center| Yellow Zone|\n",
      "|2020-01-01 00:00:00| 162|              NULL|           NULL| 4622.289999999997|             268|Manhattan|        Midtown East| Yellow Zone|\n",
      "|2020-01-01 00:00:00| 179| 87.32000000000001|              5|            213.29|              10|   Queens|         Old Astoria|   Boro Zone|\n",
      "|2020-01-01 00:00:00| 185|              NULL|           NULL|             69.51|               2|    Bronx|      Pelham Parkway|   Boro Zone|\n",
      "|2020-01-01 00:00:00| 190|             61.97|              4|              54.1|               3| Brooklyn|       Prospect Park|   Boro Zone|\n",
      "+-------------------+----+------------------+---------------+------------------+----------------+---------+--------------------+------------+\n",
      "only showing top 20 rows\n",
      "\n"
     ]
    },
    {
     "name": "stderr",
     "output_type": "stream",
     "text": [
      "                                                                                \r"
     ]
    }
   ],
   "source": [
    "df_result.show()"
   ]
  },
  {
   "cell_type": "code",
   "execution_count": null,
   "metadata": {},
   "outputs": [
    {
     "name": "stderr",
     "output_type": "stream",
     "text": [
      "25/03/14 11:20:36 WARN MemoryManager: Total allocation exceeds 95.00% (1,020,054,720 bytes) of heap memory\n",
      "Scaling row group sizes to 95.00% for 8 writers\n",
      "                                                                                \r"
     ]
    }
   ],
   "source": [
    "df_result\\\n",
    "  .write.parquet('data/report/revenue/total_zones', mode='overwrite')"
   ]
  },
  {
   "cell_type": "code",
   "execution_count": null,
   "metadata": {},
   "outputs": [],
   "source": [
    "# spark.stop()"
   ]
  },
  {
   "cell_type": "code",
   "execution_count": null,
   "metadata": {},
   "outputs": [],
   "source": []
  }
 ],
 "metadata": {
  "kernelspec": {
   "display_name": ".venv",
   "language": "python",
   "name": "python3"
  },
  "language_info": {
   "codemirror_mode": {
    "name": "ipython",
    "version": 3
   },
   "file_extension": ".py",
   "mimetype": "text/x-python",
   "name": "python",
   "nbconvert_exporter": "python",
   "pygments_lexer": "ipython3",
   "version": "3.9.6"
  }
 },
 "nbformat": 4,
 "nbformat_minor": 2
}
