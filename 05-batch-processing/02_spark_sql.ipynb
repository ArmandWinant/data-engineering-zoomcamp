{
 "cells": [
  {
   "cell_type": "code",
   "execution_count": null,
   "id": "ad4ab43e",
   "metadata": {},
   "outputs": [],
   "source": [
    "from pyspark.sql import SparkSession, functions as F"
   ]
  },
  {
   "cell_type": "code",
   "execution_count": 45,
   "id": "d820407b",
   "metadata": {},
   "outputs": [],
   "source": [
    "spark = SparkSession.builder\\\n",
    "          .master(\"local[*]\")\\\n",
    "          .appName(\"test\")\\\n",
    "          .getOrCreate()"
   ]
  },
  {
   "cell_type": "markdown",
   "id": "4a16adab",
   "metadata": {},
   "source": [
    "## Green Taxi"
   ]
  },
  {
   "cell_type": "code",
   "execution_count": 46,
   "id": "1c7c916e",
   "metadata": {},
   "outputs": [],
   "source": [
    "df_green = spark.read.parquet('./data/pq/green/*/*')"
   ]
  },
  {
   "cell_type": "code",
   "execution_count": 47,
   "id": "cd913b43",
   "metadata": {},
   "outputs": [],
   "source": [
    "df_green = df_green\\\n",
    "            .withColumnRenamed('lpep_pickup_datetime', 'pickup_datetime')\\\n",
    "            .withColumnRenamed('lpep_dropoff_datetime', 'dropoff_datetime')"
   ]
  },
  {
   "cell_type": "markdown",
   "id": "af705d1c",
   "metadata": {},
   "source": [
    "## Yellow Taxi"
   ]
  },
  {
   "cell_type": "code",
   "execution_count": 48,
   "id": "c26028cf",
   "metadata": {},
   "outputs": [],
   "source": [
    "df_yellow = spark.read.parquet('./data/pq/yellow/*/*')"
   ]
  },
  {
   "cell_type": "code",
   "execution_count": 49,
   "id": "c24c8e24",
   "metadata": {},
   "outputs": [],
   "source": [
    "df_yellow = df_yellow\\\n",
    "            .withColumnRenamed('tpep_pickup_datetime', 'pickup_datetime')\\\n",
    "            .withColumnRenamed('tpep_dropoff_datetime', 'dropoff_datetime')"
   ]
  },
  {
   "cell_type": "markdown",
   "id": "90b6c7a0",
   "metadata": {},
   "source": [
    "## Merge"
   ]
  },
  {
   "cell_type": "code",
   "execution_count": 50,
   "id": "2f403f78",
   "metadata": {},
   "outputs": [],
   "source": [
    "common_cols = [col for col in df_green.columns if col in df_yellow.columns]"
   ]
  },
  {
   "cell_type": "code",
   "execution_count": 51,
   "id": "250a466c",
   "metadata": {},
   "outputs": [],
   "source": [
    "df_green_sel = df_green.select(common_cols).withColumn('service_type', F.lit('green'))\n",
    "df_yellow_sel = df_yellow.select(common_cols).withColumn('service_type', F.lit('yellow'))"
   ]
  },
  {
   "cell_type": "code",
   "execution_count": 52,
   "id": "f4c44085",
   "metadata": {},
   "outputs": [],
   "source": [
    "df_trips_data = df_green_sel.unionAll(df_yellow_sel)"
   ]
  },
  {
   "cell_type": "code",
   "execution_count": 53,
   "id": "f6ea541e",
   "metadata": {},
   "outputs": [
    {
     "name": "stderr",
     "output_type": "stream",
     "text": [
      "[Stage 2:==================================================>      (16 + 2) / 18]\r"
     ]
    },
    {
     "name": "stdout",
     "output_type": "stream",
     "text": [
      "+------------+--------+\n",
      "|service_type|   count|\n",
      "+------------+--------+\n",
      "|       green| 2304517|\n",
      "|      yellow|39649199|\n",
      "+------------+--------+\n",
      "\n"
     ]
    },
    {
     "name": "stderr",
     "output_type": "stream",
     "text": [
      "                                                                                \r"
     ]
    }
   ],
   "source": [
    "df_trips_data.groupBy('service_type').count().show()"
   ]
  },
  {
   "cell_type": "code",
   "execution_count": 55,
   "id": "879c8e52",
   "metadata": {},
   "outputs": [],
   "source": [
    "df_trips_data.createTempView('trips_data')"
   ]
  },
  {
   "cell_type": "code",
   "execution_count": 56,
   "id": "a9090f92",
   "metadata": {},
   "outputs": [
    {
     "name": "stderr",
     "output_type": "stream",
     "text": [
      "[Stage 5:==================================================>      (16 + 2) / 18]\r"
     ]
    },
    {
     "name": "stdout",
     "output_type": "stream",
     "text": [
      "+------------+--------+\n",
      "|service_type|count(1)|\n",
      "+------------+--------+\n",
      "|       green| 2304517|\n",
      "|      yellow|39649199|\n",
      "+------------+--------+\n",
      "\n"
     ]
    },
    {
     "name": "stderr",
     "output_type": "stream",
     "text": [
      "                                                                                \r"
     ]
    }
   ],
   "source": [
    "spark.sql(\"\"\"\n",
    "  SELECT\n",
    "    service_type,\n",
    "    count(1)\n",
    "  FROM trips_data\n",
    "  GROUP BY 1\n",
    "\"\"\").show()"
   ]
  },
  {
   "cell_type": "code",
   "execution_count": 57,
   "id": "2d0cc083",
   "metadata": {},
   "outputs": [],
   "source": [
    "df_result = spark.sql(\"\"\"\n",
    "  SELECT \n",
    "      -- Revenue grouping \n",
    "      PULocationID AS revenue_zone,\n",
    "      date_trunc('month', pickup_datetime) AS revenue_month, \n",
    "      service_type, \n",
    "\n",
    "      -- Revenue calculation \n",
    "      SUM(fare_amount) AS revenue_monthly_fare,\n",
    "      SUM(extra) AS revenue_monthly_extra,\n",
    "      SUM(mta_tax) AS revenue_monthly_mta_tax,\n",
    "      SUM(tip_amount) AS revenue_monthly_tip_amount,\n",
    "      SUM(tolls_amount) AS revenue_monthly_tolls_amount,\n",
    "      SUM(improvement_surcharge) AS revenue_monthly_improvement_surcharge,\n",
    "      SUM(total_amount) AS revenue_monthly_total_amount,\n",
    "      SUM(congestion_surcharge) AS revenue_monthly_congestion_surcharge,\n",
    "\n",
    "      -- Additional calculations\n",
    "      AVG(passenger_count) AS avg_monthly_passenger_count,\n",
    "      AVG(trip_distance) AS avg_monthly_trip_distance\n",
    "  FROM\n",
    "      trips_data\n",
    "  GROUP BY\n",
    "      1, 2, 3\n",
    "  \"\"\")"
   ]
  },
  {
   "cell_type": "code",
   "execution_count": 58,
   "id": "a1e40853",
   "metadata": {},
   "outputs": [
    {
     "name": "stderr",
     "output_type": "stream",
     "text": [
      "                                                                                \r"
     ]
    }
   ],
   "source": [
    "df_result.coalesce(1).write.parquet('data/report/revenue/', mode='overwrite')"
   ]
  },
  {
   "cell_type": "code",
   "execution_count": 59,
   "id": "14880a63",
   "metadata": {},
   "outputs": [],
   "source": [
    "spark.stop()"
   ]
  },
  {
   "cell_type": "code",
   "execution_count": null,
   "id": "bf1776fe",
   "metadata": {},
   "outputs": [],
   "source": []
  }
 ],
 "metadata": {
  "kernelspec": {
   "display_name": ".venv",
   "language": "python",
   "name": "python3"
  },
  "language_info": {
   "codemirror_mode": {
    "name": "ipython",
    "version": 3
   },
   "file_extension": ".py",
   "mimetype": "text/x-python",
   "name": "python",
   "nbconvert_exporter": "python",
   "pygments_lexer": "ipython3",
   "version": "3.9.6"
  }
 },
 "nbformat": 4,
 "nbformat_minor": 5
}
